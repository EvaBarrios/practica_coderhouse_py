{
  "nbformat": 4,
  "nbformat_minor": 0,
  "metadata": {
    "colab": {
      "provenance": [],
      "include_colab_link": true
    },
    "kernelspec": {
      "name": "python3",
      "display_name": "Python 3"
    },
    "language_info": {
      "name": "python"
    }
  },
  "cells": [
    {
      "cell_type": "markdown",
      "metadata": {
        "id": "view-in-github",
        "colab_type": "text"
      },
      "source": [
        "<a href=\"https://colab.research.google.com/github/EvaBarrios/practica_coderhouse_py/blob/main/vivoClase12.ipynb\" target=\"_parent\"><img src=\"https://colab.research.google.com/assets/colab-badge.svg\" alt=\"Open In Colab\"/></a>"
      ]
    },
    {
      "cell_type": "code",
      "metadata": {
        "id": "2VaTzSkb4yxB"
      },
      "source": [
        "#Ejemplo de repaso --- Trabajar con los datos de un \"vehiculo\"\n",
        "\n",
        "#varaible = input().....\n",
        "marca = \"FIAT\"\n",
        "modelo = \"Palio\"\n",
        "color = \"Gris\"\n",
        "patente = \"AA123LL\"\n",
        "anio = 2001"
      ],
      "execution_count": null,
      "outputs": []
    },
    {
      "cell_type": "code",
      "metadata": {
        "id": "3gaRHxg2FSG4"
      },
      "source": [
        "#Función para mostrar los datos de un vehiculo\n",
        "\n",
        "def mostrarVehiculo(mar,mod,col,pat,an):\n",
        "\n",
        "  print(\"--------------------------\")\n",
        "  print(f\"MARCA: {mar}\")\n",
        "  print(f\"MODELO: {mod}\")\n",
        "  print(f\"COLOR: {col}\")\n",
        "  print(f\"AÑO: {an}\")\n",
        "  print(f\"PATENTE: {pat}\")\n",
        "  print(\"--------------------------\")\n",
        "\n",
        "  \n"
      ],
      "execution_count": null,
      "outputs": []
    },
    {
      "cell_type": "code",
      "metadata": {
        "colab": {
          "base_uri": "https://localhost:8080/"
        },
        "id": "EjJTLj7SGnC5",
        "outputId": "69e4847b-9bae-441f-82dc-57f51b72fb04"
      },
      "source": [
        "mostrarVehiculo(marca,modelo,color,patente,anio)"
      ],
      "execution_count": null,
      "outputs": [
        {
          "output_type": "stream",
          "name": "stdout",
          "text": [
            "--------------------------\n",
            "MARCA: FIAT\n",
            "MODELO: Palio\n",
            "COLOR: Gris\n",
            "AÑO: 2001\n",
            "PATENTE: AA123LL\n",
            "--------------------------\n"
          ]
        }
      ]
    },
    {
      "cell_type": "code",
      "metadata": {
        "colab": {
          "base_uri": "https://localhost:8080/"
        },
        "id": "P8xMm1uKHB54",
        "outputId": "565f3304-9d5c-4f04-d6ac-e91ec6a08da2"
      },
      "source": [
        "mostrarVehiculo(\"Renault\", \"Clio\", \"Rojo\", \"b112JJ\",2010)"
      ],
      "execution_count": null,
      "outputs": [
        {
          "output_type": "stream",
          "name": "stdout",
          "text": [
            "--------------------------\n",
            "MARCA: Renault\n",
            "MODELO: Clio\n",
            "COLOR: Rojo\n",
            "AÑO: 2010\n",
            "PATENTE: b112JJ\n",
            "--------------------------\n"
          ]
        }
      ]
    },
    {
      "cell_type": "code",
      "metadata": {
        "colab": {
          "base_uri": "https://localhost:8080/"
        },
        "id": "tCRHqT6jHxS7",
        "outputId": "4fcc522c-1be3-4b30-c32c-9f75bdf82cc3"
      },
      "source": [
        "mostrarVehiculo(col = \"Verde\", mar =\"FORD\", an = 1980,pat = \"DDDDD\",mod =\"Taunus\")"
      ],
      "execution_count": null,
      "outputs": [
        {
          "output_type": "stream",
          "name": "stdout",
          "text": [
            "--------------------------\n",
            "MARCA: FORD\n",
            "MODELO: Taunus\n",
            "COLOR: Verde\n",
            "AÑO: 1980\n",
            "PATENTE: DDDDD\n",
            "--------------------------\n"
          ]
        }
      ]
    },
    {
      "cell_type": "code",
      "metadata": {
        "id": "UvCixkikIrg0"
      },
      "source": [
        "#En resumen \n",
        "\n",
        "#auto1.mostrarVehiculo()"
      ],
      "execution_count": null,
      "outputs": []
    },
    {
      "cell_type": "markdown",
      "metadata": {
        "id": "rkj5r33ubHLO"
      },
      "source": [
        "#Para probar en:  https://www.planttext.com/\n",
        "\n",
        "@startuml\n",
        "\n",
        "title Primer Diagrama Coder\n",
        "\n",
        "\n",
        "class Profesor{\n",
        " nombre: String\n",
        "+apellido: String\n",
        "-doc: float\n",
        "#edad: int\n",
        "\n",
        "-mostrarTarea(List nadie): void\n",
        "+enseñar(): void\n",
        "+desaprobarATodos(): Boolean\n",
        "+aprobar(Estudiante nadia): int\n",
        "\n",
        "\n",
        "}\n",
        "\n",
        "\n",
        "class Estudiante{\n",
        "\n",
        "-codEstudiante\n",
        "-nombre\n",
        "-promedio\n",
        "\n",
        "+cursar()\n",
        "+entragarTarea()\n",
        "+rendir()\n",
        "\n",
        "}\n",
        "\n",
        "class Curso{\n",
        "\n",
        "-nombre\n",
        "-comision\n",
        "-horario\n",
        "\n",
        "+generarZoom()\n",
        "+matricularEstudiante()\n",
        "\n",
        "}\n",
        "\n",
        "Profesor \"1\" *-- \"..*\"  Curso\n",
        "\n",
        "Curso \"0..*\" o-- \"1..*\" Estudiante\n",
        "\n",
        "Profesor \"1..6\" --> \"1..*\" Estudiante: Ama ♥ \n",
        "\n",
        "\n",
        "@enduml"
      ]
    },
    {
      "cell_type": "code",
      "metadata": {
        "id": "3yGPTEPXbK5s"
      },
      "source": [],
      "execution_count": null,
      "outputs": []
    }
  ]
}