{
  "nbformat": 4,
  "nbformat_minor": 0,
  "metadata": {
    "colab": {
      "name": "Ejercicio_5+Barrios_Eva.ipynb",
      "provenance": [],
      "collapsed_sections": [],
      "authorship_tag": "ABX9TyNVAkteytPo9W2cOheeAHbq",
      "include_colab_link": true
    },
    "kernelspec": {
      "name": "python3",
      "display_name": "Python 3"
    },
    "language_info": {
      "name": "python"
    }
  },
  "cells": [
    {
      "cell_type": "markdown",
      "metadata": {
        "id": "view-in-github",
        "colab_type": "text"
      },
      "source": [
        "<a href=\"https://colab.research.google.com/github/EvaBarrios/practica_coderhouse_py/blob/main/Ejercicio_5%2BBarrios_Eva.ipynb\" target=\"_parent\"><img src=\"https://colab.research.google.com/assets/colab-badge.svg\" alt=\"Open In Colab\"/></a>"
      ]
    },
    {
      "cell_type": "markdown",
      "source": [
        "El siguiente programa recibe una matriz y debe mostrar la matriz dada con el agregado de un cuarto elemento en cada fila que será el resultado de la suma de los tres primeros."
      ],
      "metadata": {
        "id": "DRXneHqT4LlY"
      }
    },
    {
      "cell_type": "code",
      "execution_count": null,
      "metadata": {
        "colab": {
          "base_uri": "https://localhost:8080/"
        },
        "id": "rJ18xLGY4KuG",
        "outputId": "ff9471ba-8e63-457b-d691-5b1d7591322c"
      },
      "outputs": [
        {
          "output_type": "stream",
          "name": "stdout",
          "text": [
            "[[1, 5, 1, 7], [2, 1, 2, 5], [3, 0, 1, 4], [1, 4, 4, 9]]\n"
          ]
        }
      ],
      "source": [
        "matriz = [[1, 5, 1], [2, 1, 2], [3, 0, 1], [1, 4, 4]]\n",
        "matriz[0].append(sum(matriz[0]))\n",
        "matriz[1].append(sum(matriz[1]))\n",
        "matriz[2].append(sum(matriz[2]))\n",
        "matriz[3].append(sum(matriz[3]))\n",
        "print(matriz)"
      ]
    }
  ]
}