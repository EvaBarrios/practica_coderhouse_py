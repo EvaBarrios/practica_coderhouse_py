{
  "nbformat": 4,
  "nbformat_minor": 0,
  "metadata": {
    "colab": {
      "provenance": [],
      "authorship_tag": "ABX9TyP7VI5JMsf4YnsA1cvTzGp5",
      "include_colab_link": true
    },
    "kernelspec": {
      "name": "python3",
      "display_name": "Python 3"
    },
    "language_info": {
      "name": "python"
    }
  },
  "cells": [
    {
      "cell_type": "markdown",
      "metadata": {
        "id": "view-in-github",
        "colab_type": "text"
      },
      "source": [
        "<a href=\"https://colab.research.google.com/github/EvaBarrios/practica_coderhouse_py/blob/main/desafio_complementario.ipynb\" target=\"_parent\"><img src=\"https://colab.research.google.com/assets/colab-badge.svg\" alt=\"Open In Colab\"/></a>"
      ]
    },
    {
      "cell_type": "markdown",
      "source": [
        "Escribir un programa que enumere los paises de la lista dada."
      ],
      "metadata": {
        "id": "Muv8vqIgCBXb"
      }
    },
    {
      "cell_type": "code",
      "execution_count": 6,
      "metadata": {
        "colab": {
          "base_uri": "https://localhost:8080/"
        },
        "id": "4ukOy7CpBixX",
        "outputId": "8dcb364a-05b6-4396-91ce-ee0330f48713"
      },
      "outputs": [
        {
          "output_type": "stream",
          "name": "stdout",
          "text": [
            "Chile\n",
            "USA\n",
            "Canada\n",
            "Australia\n",
            "Colombia\n",
            "Uruguay\n"
          ]
        }
      ],
      "source": [
        "paises = ['Chile', 'USA', 'Canada', 'Australia', 'Colombia', 'Uruguay']\n",
        "for i in range(len(paises)):\n",
        "  print(f'{paises[i]}')\n",
        "\n"
      ]
    }
  ]
}