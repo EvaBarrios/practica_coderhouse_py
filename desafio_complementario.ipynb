{
  "cells": [
    {
      "cell_type": "markdown",
      "metadata": {
        "colab_type": "text",
        "id": "view-in-github"
      },
      "source": [
        "<a href=\"https://colab.research.google.com/github/EvaBarrios/practica_coderhouse_py/blob/main/desafio_complementario.ipynb\" target=\"_parent\"><img src=\"https://colab.research.google.com/assets/colab-badge.svg\" alt=\"Open In Colab\"/></a>"
      ]
    },
    {
      "cell_type": "markdown",
      "metadata": {
        "id": "Muv8vqIgCBXb"
      },
      "source": [
        "Escribir un programa que enumere los paises de la lista dada."
      ]
    },
    {
      "cell_type": "code",
      "execution_count": 9,
      "metadata": {
        "colab": {
          "base_uri": "https://localhost:8080/"
        },
        "id": "4ukOy7CpBixX",
        "outputId": "8dcb364a-05b6-4396-91ce-ee0330f48713"
      },
      "outputs": [
        {
          "name": "stdout",
          "output_type": "stream",
          "text": [
            " Pais numero 1 es Chile\n",
            " Pais numero 2 es USA\n",
            " Pais numero 3 es Canada\n",
            " Pais numero 4 es Australia\n",
            " Pais numero 5 es Colombia\n",
            " Pais numero 6 es Uruguay\n"
          ]
        }
      ],
      "source": [
        "paises = ['Chile', 'USA', 'Canada', 'Australia', 'Colombia', 'Uruguay']\n",
        "for i in range(len(paises)):\n",
        "  print(' Pais numero', str(i+1), f'es {paises[i]}')\n",
        "\n"
      ]
    },
    {
      "cell_type": "markdown",
      "metadata": {},
      "source": [
        "Crear un bucle que sume los numeros impares del 0 al 50."
      ]
    },
    {
      "cell_type": "code",
      "execution_count": 10,
      "metadata": {},
      "outputs": [
        {
          "name": "stdout",
          "output_type": "stream",
          "text": [
            "La suma de los primeros 50 numeros impares es: 625\n"
          ]
        }
      ],
      "source": [
        "suma = 0\n",
        "for i in range(1, 50, 2):\n",
        "    suma +=i\n",
        "print(f'La suma de los primeros 50 numeros impares es: {suma}')"
      ]
    },
    {
      "cell_type": "code",
      "execution_count": 16,
      "metadata": {},
      "outputs": [
        {
          "name": "stdout",
          "output_type": "stream",
          "text": [
            "20\n",
            "19\n",
            "18\n",
            "17\n",
            "16\n",
            "15\n",
            "14\n",
            "13\n",
            "12\n",
            "11\n",
            "10\n",
            "9\n",
            "8\n",
            "7\n",
            "6\n",
            "5\n",
            "4\n",
            "3\n",
            "2\n",
            "1\n"
          ]
        }
      ],
      "source": [
        "for i in range(20,0,-1):\n",
        "    print(i)"
      ]
    }
  ],
  "metadata": {
    "colab": {
      "authorship_tag": "ABX9TyP7VI5JMsf4YnsA1cvTzGp5",
      "include_colab_link": true,
      "provenance": []
    },
    "kernelspec": {
      "display_name": "Python 3.10.6 64-bit",
      "language": "python",
      "name": "python3"
    },
    "language_info": {
      "codemirror_mode": {
        "name": "ipython",
        "version": 3
      },
      "file_extension": ".py",
      "mimetype": "text/x-python",
      "name": "python",
      "nbconvert_exporter": "python",
      "pygments_lexer": "ipython3",
      "version": "3.10.6"
    },
    "vscode": {
      "interpreter": {
        "hash": "c323b7345330f980b7c85ab4a4b18316e2a70e7c2aaf2576fba29baacaf3ade9"
      }
    }
  },
  "nbformat": 4,
  "nbformat_minor": 0
}
