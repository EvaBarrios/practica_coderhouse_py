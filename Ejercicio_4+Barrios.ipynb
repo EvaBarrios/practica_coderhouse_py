{
  "nbformat": 4,
  "nbformat_minor": 0,
  "metadata": {
    "colab": {
      "name": "Ejercicio_4+Barrios.ipynb",
      "provenance": [],
      "collapsed_sections": [],
      "authorship_tag": "ABX9TyOicBa2hTbjBqblcZaEvXAW",
      "include_colab_link": true
    },
    "kernelspec": {
      "name": "python3",
      "display_name": "Python 3"
    },
    "language_info": {
      "name": "python"
    }
  },
  "cells": [
    {
      "cell_type": "markdown",
      "metadata": {
        "id": "view-in-github",
        "colab_type": "text"
      },
      "source": [
        "<a href=\"https://colab.research.google.com/github/EvaBarrios/practica_coderhouse_py/blob/main/Ejercicio_4%2BBarrios.ipynb\" target=\"_parent\"><img src=\"https://colab.research.google.com/assets/colab-badge.svg\" alt=\"Open In Colab\"/></a>"
      ]
    },
    {
      "cell_type": "markdown",
      "source": [
        "\n",
        "# Este programa pedirá al usuario tres notas parciales para luego calcular la nota final correspondiente\n"
      ],
      "metadata": {
        "id": "1fGj_YMnDZsa"
      }
    },
    {
      "cell_type": "code",
      "execution_count": 4,
      "metadata": {
        "id": "_hyTSlVYDQ2_",
        "colab": {
          "base_uri": "https://localhost:8080/"
        },
        "outputId": "65d934e0-46e5-423f-c3ee-7b4a8e297350"
      },
      "outputs": [
        {
          "output_type": "stream",
          "name": "stdout",
          "text": [
            "Ingrese primer nota: 10\n",
            "Ingrese segunda nota: 7\n",
            "Ingrese tercer nota: 4\n",
            "La nota final (promedio ponderado) es: 5.95\n"
          ]
        }
      ],
      "source": [
        "nota_1 = float(input(\"Ingrese primer nota: \")) # Esta nota representa el 15% de la nota final\n",
        "nota_2 = float(input(\"Ingrese segunda nota: \")) # Esta nota representa el 35% de la nota final\n",
        "nota_3 = float(input(\"Ingrese tercer nota: \")) # Esta nota representa el 50% de la nota final\n",
        "nota_final_ = 0.15*nota_1 + 0.35*nota_2 + 0.5*nota_3\n",
        "nota_final = round(nota_final_,2) # Redondeo de la nota final a los centésimos\n",
        "print(\"La nota final (promedio ponderado) es: \" + str(nota_final)) "
      ]
    }
  ]
}