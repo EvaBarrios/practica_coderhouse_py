{
  "nbformat": 4,
  "nbformat_minor": 0,
  "metadata": {
    "colab": {
      "provenance": [],
      "include_colab_link": true
    },
    "kernelspec": {
      "name": "python3",
      "display_name": "Python 3"
    },
    "language_info": {
      "name": "python"
    }
  },
  "cells": [
    {
      "cell_type": "markdown",
      "metadata": {
        "id": "view-in-github",
        "colab_type": "text"
      },
      "source": [
        "<a href=\"https://colab.research.google.com/github/EvaBarrios/practica_coderhouse_py/blob/main/BarriosEva_Desaf%C3%ADo_5_Funciones_II.ipynb\" target=\"_parent\"><img src=\"https://colab.research.google.com/assets/colab-badge.svg\" alt=\"Open In Colab\"/></a>"
      ]
    },
    {
      "cell_type": "markdown",
      "source": [
        "# Desafío entregable 5 \"Funciones II\""
      ],
      "metadata": {
        "id": "xrWaWKVXJ_ty"
      }
    },
    {
      "cell_type": "markdown",
      "source": [
        "- 📌 Recuerda usar el estilo `snake_case` en el nombre de las **variables** y **funciones** (minúsculas y palabras unidas con guion bajo) y escribir palabras completas, no abreviadas, para una mayor legibilidad del código.\n",
        "- 📌 Recuerda envolver a los operadores `+ - =  != < >`, etc... con un espacio a la izquierda y a la derecha, y también, después de la coma, un espacio solamente a la derecha. (Ver recomendaciones de estilo PEP8)\n",
        "- 📌 Recuerda mantener un estilo en el idioma para las variables, es decir, mezclar el inglés y el español no es una buena práctica."
      ],
      "metadata": {
        "id": "OqoFwz1wKMgi"
      }
    },
    {
      "cell_type": "markdown",
      "source": [
        "## Ejercicio 1\n",
        "Realiza una función llamada area_rectangulo() que devuelva el área del rectángulo a partir de una base y una altura. Calcula el área de un rectángulo de 15 de base y 10 de altura\n",
        "\n",
        "> 🖐 Ayuda: El área de un rectángulo se obtiene al multiplicar la base por la altura.\n"
      ],
      "metadata": {
        "id": "BMvSiLMJuXOD"
      }
    },
    {
      "cell_type": "code",
      "source": [
        "def area_rectangulo(base, altura):\n",
        "  return base * altura\n"
      ],
      "metadata": {
        "id": "sEkiIeWQutqv"
      },
      "execution_count": 6,
      "outputs": []
    },
    {
      "cell_type": "code",
      "source": [
        "area_rectangulo(15, 10)"
      ],
      "metadata": {
        "id": "VR5kR4-8RfvH",
        "outputId": "7c26e952-b438-48ac-89ac-7edf242f35f3",
        "colab": {
          "base_uri": "https://localhost:8080/"
        }
      },
      "execution_count": 7,
      "outputs": [
        {
          "output_type": "execute_result",
          "data": {
            "text/plain": [
              "150"
            ]
          },
          "metadata": {},
          "execution_count": 7
        }
      ]
    },
    {
      "cell_type": "markdown",
      "source": [
        "## Ejercicio 2\n",
        "Realiza una función llamada area_circulo() que devuelva el área de un círculo a partir de un radio. Calcula el área de un círculo de 5 de radio\n",
        "\n",
        "> 🖐 Ayuda: El área de un círculo se obtiene al elevar el radio a dos y multiplicando el resultado por el número pi. Puedes utilizar el valor 3.14159 como pi o importarlo del módulo math (import math)\n"
      ],
      "metadata": {
        "id": "4VI-GOxAudGj"
      }
    },
    {
      "cell_type": "code",
      "source": [
        "import math\n",
        "# print(math.pi)\n",
        "\n",
        "def area_circulo(radio):\n",
        "  return math.pi * radio**2 "
      ],
      "metadata": {
        "id": "0u8fZrK-uuNf",
        "outputId": "c381dec0-973f-48ba-cc88-dcbed389e83e",
        "colab": {
          "base_uri": "https://localhost:8080/"
        }
      },
      "execution_count": 8,
      "outputs": [
        {
          "output_type": "stream",
          "name": "stdout",
          "text": [
            "3.141592653589793\n"
          ]
        }
      ]
    },
    {
      "cell_type": "code",
      "source": [
        "area_circulo(5)"
      ],
      "metadata": {
        "id": "qZbceOUtUTy1",
        "outputId": "381461aa-950b-4ece-b537-98fa2f8c4451",
        "colab": {
          "base_uri": "https://localhost:8080/"
        }
      },
      "execution_count": 9,
      "outputs": [
        {
          "output_type": "execute_result",
          "data": {
            "text/plain": [
              "78.53981633974483"
            ]
          },
          "metadata": {},
          "execution_count": 9
        }
      ]
    },
    {
      "cell_type": "markdown",
      "source": [
        "## Ejercicio 3\n",
        "Realiza una función llamada relacion(), que, a partir de dos números, cumpla lo siguiente:\n",
        "\n",
        "- Si el primer número es mayor que el segundo, debe devolver 1.\n",
        "- Si el primer número es menor que el segundo, debe devolver -1.\n",
        "- Si ambos números son iguales, debe devolver 0.\n",
        "\n",
        "Comprueba la relación entre los números: '5 y 10', '10 y 5' y '5 y 5'\n"
      ],
      "metadata": {
        "id": "Wwwsi93nueK4"
      }
    },
    {
      "cell_type": "code",
      "source": [
        "def relacion(num1, num2):\n",
        "  if num1 > num2:\n",
        "    return 1\n",
        "  elif num1 < num2:\n",
        "    return -1\n",
        "  else:\n",
        "    return 0"
      ],
      "metadata": {
        "id": "ESLvUcoxuurv"
      },
      "execution_count": 11,
      "outputs": []
    },
    {
      "cell_type": "code",
      "source": [
        "relacion(5, 10)"
      ],
      "metadata": {
        "id": "oLJ4B5ThVUzf",
        "outputId": "ecc8e440-19c9-4d10-8183-8fb01dbd2964",
        "colab": {
          "base_uri": "https://localhost:8080/"
        }
      },
      "execution_count": 12,
      "outputs": [
        {
          "output_type": "execute_result",
          "data": {
            "text/plain": [
              "-1"
            ]
          },
          "metadata": {},
          "execution_count": 12
        }
      ]
    },
    {
      "cell_type": "code",
      "source": [
        "relacion(10, 5)"
      ],
      "metadata": {
        "id": "aGdsSLVPVanX",
        "outputId": "3d88aabd-600a-4d1b-eb78-47a79f66d652",
        "colab": {
          "base_uri": "https://localhost:8080/"
        }
      },
      "execution_count": 13,
      "outputs": [
        {
          "output_type": "execute_result",
          "data": {
            "text/plain": [
              "1"
            ]
          },
          "metadata": {},
          "execution_count": 13
        }
      ]
    },
    {
      "cell_type": "code",
      "source": [
        "relacion(5, 5)"
      ],
      "metadata": {
        "id": "kqjgjRJiVgk-",
        "outputId": "1672310a-4202-443d-c084-a98a1db4841f",
        "colab": {
          "base_uri": "https://localhost:8080/"
        }
      },
      "execution_count": 14,
      "outputs": [
        {
          "output_type": "execute_result",
          "data": {
            "text/plain": [
              "0"
            ]
          },
          "metadata": {},
          "execution_count": 14
        }
      ]
    },
    {
      "cell_type": "markdown",
      "source": [
        "## Ejercicio 4\n",
        "Realiza una función llamada intermedio() que, a partir de dos números, devuelva su punto intermedio:\n",
        "\n",
        "> 🖐 Ayuda: El número intermedio de dos números corresponde a la suma de los dos números dividido 2.\n",
        "\n",
        "Comprueba el punto intermedio entre -12 y 24"
      ],
      "metadata": {
        "id": "tuQ3UrzKumOv"
      }
    },
    {
      "cell_type": "code",
      "source": [
        "def intermedio(a, b):\n",
        "  return (a + b)/2"
      ],
      "metadata": {
        "id": "6RcQC0fquvP4"
      },
      "execution_count": 15,
      "outputs": []
    },
    {
      "cell_type": "code",
      "source": [
        "intermedio(-12, 24)"
      ],
      "metadata": {
        "id": "RHPahgkmV0Gx",
        "outputId": "6e17b2c5-ece8-4e48-8287-e2c80eb09590",
        "colab": {
          "base_uri": "https://localhost:8080/"
        }
      },
      "execution_count": 16,
      "outputs": [
        {
          "output_type": "execute_result",
          "data": {
            "text/plain": [
              "6.0"
            ]
          },
          "metadata": {},
          "execution_count": 16
        }
      ]
    },
    {
      "cell_type": "markdown",
      "source": [
        "## Ejercicio 5\n",
        "Realizá una función llamada recortar() que reciba tres parámetros. El primero es el número a recortar, el segundo es el límite inferior y el tercero el límite superior. La función tendrá que cumplir lo siguiente:\n",
        "\n",
        "- Devolver el límite inferior, si el número es menor que éste.\n",
        "- Devolver el límite superior, si el número es mayor que éste.\n",
        "- Devolver el número sin cambios, si no se supera ningún límite.\n",
        "\n",
        "Comprueba el resultado de recortar 15 entre los límites 0 y 10\n"
      ],
      "metadata": {
        "id": "9aormEcquooR"
      }
    },
    {
      "cell_type": "code",
      "source": [
        "def recortar(num, inferior, superior):\n",
        "  if num < inferior:\n",
        "    return inferior\n",
        "  elif num > superior:\n",
        "    return superior\n",
        "  return num"
      ],
      "metadata": {
        "id": "LfNZcJbkuv1L"
      },
      "execution_count": 17,
      "outputs": []
    },
    {
      "cell_type": "code",
      "source": [
        "recortar(15, 0, 10)"
      ],
      "metadata": {
        "id": "dhcY79zLWZnY",
        "outputId": "d0e93246-2914-4170-87c0-961b87d25d71",
        "colab": {
          "base_uri": "https://localhost:8080/"
        }
      },
      "execution_count": 21,
      "outputs": [
        {
          "output_type": "execute_result",
          "data": {
            "text/plain": [
              "10"
            ]
          },
          "metadata": {},
          "execution_count": 21
        }
      ]
    },
    {
      "cell_type": "markdown",
      "source": [
        "## Ejercicio 6\n",
        "Realiza una función separar() que tome una lista de números enteros y devuelva dos listas ordenadas. La primera con los números pares, y la segunda con los números impares:\n",
        "> 🖐 Ayuda: Para ordenar una lista automáticamente puedes usar el método .sort()\n"
      ],
      "metadata": {
        "id": "ZQsOaOwfurRH"
      }
    },
    {
      "cell_type": "code",
      "execution_count": 40,
      "metadata": {
        "id": "iWlr4MmEtN13"
      },
      "outputs": [],
      "source": [
        "def separar(lista):\n",
        "  lista.sort()\n",
        "  lista_pares = []\n",
        "  lista_impares = []\n",
        "  for i in lista:\n",
        "    if i % 2 == 0:\n",
        "      lista_pares.append(i)\n",
        "    else:\n",
        "      lista_impares.append(i)\n",
        "  return lista_pares, lista_impares"
      ]
    },
    {
      "cell_type": "code",
      "source": [
        "lista_par, lista_impar = separar([2, -9, 17, 198, 66, 53, 983])\n",
        "print(lista_par)\n",
        "print(lista_impar)"
      ],
      "metadata": {
        "id": "wf8Q4BiaXvs5",
        "outputId": "e90b4252-85b0-45f2-a4ef-5fe1cabfffeb",
        "colab": {
          "base_uri": "https://localhost:8080/"
        }
      },
      "execution_count": 43,
      "outputs": [
        {
          "output_type": "stream",
          "name": "stdout",
          "text": [
            "[2, 66, 198]\n",
            "[-9, 17, 53, 983]\n"
          ]
        }
      ]
    }
  ]
}