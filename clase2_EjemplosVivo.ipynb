{
  "nbformat": 4,
  "nbformat_minor": 0,
  "metadata": {
    "colab": {
      "provenance": [],
      "include_colab_link": true
    },
    "kernelspec": {
      "name": "python3",
      "display_name": "Python 3"
    },
    "language_info": {
      "name": "python"
    }
  },
  "cells": [
    {
      "cell_type": "markdown",
      "metadata": {
        "id": "view-in-github",
        "colab_type": "text"
      },
      "source": [
        "<a href=\"https://colab.research.google.com/github/EvaBarrios/practica_coderhouse_py/blob/main/clase2_EjemplosVivo.ipynb\" target=\"_parent\"><img src=\"https://colab.research.google.com/assets/colab-badge.svg\" alt=\"Open In Colab\"/></a>"
      ]
    },
    {
      "cell_type": "code",
      "metadata": {
        "id": "-gf09nsOxRxu"
      },
      "source": [
        "#Recomedamos ver estos ejemplos luego del vivo e ir probando todo paso por paso.\n",
        "\n",
        "\n",
        "#Esto es un comentario\n",
        "edad = 32\n",
        "nombreYApellido = \"Nicolas Perez\"  #String\n",
        "altura = 1.81\n",
        "\n",
        "suma_de_edad_y_altura = edad + altura"
      ],
      "execution_count": null,
      "outputs": []
    },
    {
      "cell_type": "code",
      "metadata": {
        "colab": {
          "base_uri": "https://localhost:8080/"
        },
        "id": "mfLandsY0Mi9",
        "outputId": "4948732a-6d6a-4bb8-c7d1-53575f7c9047"
      },
      "source": [
        "print(\"Este es un texto muy simpatico\")"
      ],
      "execution_count": null,
      "outputs": [
        {
          "output_type": "stream",
          "name": "stdout",
          "text": [
            "Este es un texto muy simpatico\n"
          ]
        }
      ]
    },
    {
      "cell_type": "code",
      "metadata": {
        "colab": {
          "base_uri": "https://localhost:8080/"
        },
        "id": "KW95QWgj0R20",
        "outputId": "28252eb5-bff9-4a1f-ef11-1aab1209444c"
      },
      "source": [
        "print(f\"Resultado: {suma_de_edad_y_altura}\")"
      ],
      "execution_count": null,
      "outputs": [
        {
          "output_type": "stream",
          "name": "stdout",
          "text": [
            "Resultado: 33.81\n"
          ]
        }
      ]
    },
    {
      "cell_type": "code",
      "metadata": {
        "colab": {
          "base_uri": "https://localhost:8080/"
        },
        "id": "dfcfZ9xB0ghJ",
        "outputId": "8b79669e-9291-4297-b8fa-a066bd52744a"
      },
      "source": [
        "variable_externa = input(\"Por favor ingresar tu equipo\")"
      ],
      "execution_count": null,
      "outputs": [
        {
          "name": "stdout",
          "output_type": "stream",
          "text": [
            "Por favor ingresar tu equipoVelez\n"
          ]
        }
      ]
    },
    {
      "cell_type": "code",
      "metadata": {
        "id": "AxjCu9Qa0zp1"
      },
      "source": [
        "curso = \"Python recargado\""
      ],
      "execution_count": null,
      "outputs": []
    },
    {
      "cell_type": "code",
      "metadata": {
        "colab": {
          "base_uri": "https://localhost:8080/",
          "height": 35
        },
        "id": "rntrmAi_07aG",
        "outputId": "b074d402-7ffc-4fa6-f489-0c445e40d7f0"
      },
      "source": [
        "curso"
      ],
      "execution_count": null,
      "outputs": [
        {
          "output_type": "execute_result",
          "data": {
            "application/vnd.google.colaboratory.intrinsic+json": {
              "type": "string"
            },
            "text/plain": [
              "'Python recargado'"
            ]
          },
          "metadata": {},
          "execution_count": 8
        }
      ]
    },
    {
      "cell_type": "code",
      "metadata": {
        "colab": {
          "base_uri": "https://localhost:8080/",
          "height": 35
        },
        "id": "AQ8uA_nM0-cd",
        "outputId": "9ba561cb-5e49-4784-93bd-35e095a2c900"
      },
      "source": [
        "curso[::-1]   #Util para los desafios...."
      ],
      "execution_count": null,
      "outputs": [
        {
          "output_type": "execute_result",
          "data": {
            "application/vnd.google.colaboratory.intrinsic+json": {
              "type": "string"
            },
            "text/plain": [
              "'odagracer nohtyP'"
            ]
          },
          "metadata": {},
          "execution_count": 15
        }
      ]
    },
    {
      "cell_type": "code",
      "metadata": {
        "id": "62Q9vO9C1zyN"
      },
      "source": [
        "nota1 = 8  #input  :) \n",
        "nota2 = 4\n",
        "\n",
        "promedio = (nota1*0.2 + nota2*0.8)"
      ],
      "execution_count": null,
      "outputs": []
    },
    {
      "cell_type": "code",
      "metadata": {
        "colab": {
          "base_uri": "https://localhost:8080/"
        },
        "id": "NgQevYMU2MJK",
        "outputId": "2cec7f9a-b594-4814-fa88-9fb5ca650ac7"
      },
      "source": [
        "promedio"
      ],
      "execution_count": null,
      "outputs": [
        {
          "output_type": "execute_result",
          "data": {
            "text/plain": [
              "4.800000000000001"
            ]
          },
          "metadata": {},
          "execution_count": 17
        }
      ]
    },
    {
      "cell_type": "markdown",
      "metadata": {
        "id": "dBhstF-x2YyN"
      },
      "source": [
        "**Ahora si clase 2 **"
      ]
    },
    {
      "cell_type": "code",
      "metadata": {
        "colab": {
          "base_uri": "https://localhost:8080/"
        },
        "id": "CuVSXdE02dSA",
        "outputId": "8295e07c-6168-4bc8-c52e-5e26e2ee732e"
      },
      "source": [
        "lista1 = []   #No tiene nada :( \n",
        "lista1"
      ],
      "execution_count": null,
      "outputs": [
        {
          "output_type": "execute_result",
          "data": {
            "text/plain": [
              "[]"
            ]
          },
          "metadata": {},
          "execution_count": 19
        }
      ]
    },
    {
      "cell_type": "code",
      "metadata": {
        "colab": {
          "base_uri": "https://localhost:8080/"
        },
        "id": "a-MeaHBk6Cie",
        "outputId": "912e0fb0-6e3b-499d-fc77-25c24a5b853e"
      },
      "source": [
        "lista2 = [-1, 33.4, \"Nico\", 9]\n",
        "\n",
        "lista2"
      ],
      "execution_count": null,
      "outputs": [
        {
          "output_type": "execute_result",
          "data": {
            "text/plain": [
              "[-1, 33.4, 'Nico', 9]"
            ]
          },
          "metadata": {},
          "execution_count": 20
        }
      ]
    },
    {
      "cell_type": "code",
      "metadata": {
        "colab": {
          "base_uri": "https://localhost:8080/"
        },
        "id": "BCQ2rJ496Lt2",
        "outputId": "12251d97-e7d8-4a1e-df4f-cfbcbe22a789"
      },
      "source": [
        "lista2[2] = 11\n",
        "lista2[1] = \"Celestial\"\n",
        "lista2"
      ],
      "execution_count": null,
      "outputs": [
        {
          "output_type": "execute_result",
          "data": {
            "text/plain": [
              "[-1, 'Celestial', 11, 9]"
            ]
          },
          "metadata": {},
          "execution_count": 23
        }
      ]
    },
    {
      "cell_type": "code",
      "metadata": {
        "colab": {
          "base_uri": "https://localhost:8080/"
        },
        "id": "d27R4m1b6qNa",
        "outputId": "03783eb5-2aba-4af3-9296-b970895159ec"
      },
      "source": [
        "lista2[::-1]"
      ],
      "execution_count": null,
      "outputs": [
        {
          "output_type": "execute_result",
          "data": {
            "text/plain": [
              "[9, 11, 'Celestial', -1]"
            ]
          },
          "metadata": {},
          "execution_count": 28
        }
      ]
    },
    {
      "cell_type": "code",
      "metadata": {
        "colab": {
          "base_uri": "https://localhost:8080/"
        },
        "id": "IDRXjWE57D7j",
        "outputId": "9cdc9298-d3b3-4a97-80a6-d115190ca4ad"
      },
      "source": [
        "len(lista2)  #len()"
      ],
      "execution_count": null,
      "outputs": [
        {
          "output_type": "execute_result",
          "data": {
            "text/plain": [
              "4"
            ]
          },
          "metadata": {},
          "execution_count": 29
        }
      ]
    },
    {
      "cell_type": "code",
      "metadata": {
        "id": "PTbhkjDI7Yue"
      },
      "source": [
        "lista3 = [-2, \"NIco\", lista2]"
      ],
      "execution_count": null,
      "outputs": []
    },
    {
      "cell_type": "code",
      "metadata": {
        "colab": {
          "base_uri": "https://localhost:8080/",
          "height": 35
        },
        "id": "LMbVILM-7kqO",
        "outputId": "77ca2d5a-0899-4ccd-a303-4449df68ff50"
      },
      "source": [
        "lista3[2][1]    # O_________O    ..... :/"
      ],
      "execution_count": null,
      "outputs": [
        {
          "output_type": "execute_result",
          "data": {
            "application/vnd.google.colaboratory.intrinsic+json": {
              "type": "string"
            },
            "text/plain": [
              "'Celestial'"
            ]
          },
          "metadata": {},
          "execution_count": 34
        }
      ]
    },
    {
      "cell_type": "code",
      "metadata": {
        "id": "hLQ7LCvw8k2_"
      },
      "source": [
        "lista = [\"Nico\", \"Perez\", 10, -1.4, \"Profe :) \"]"
      ],
      "execution_count": null,
      "outputs": []
    },
    {
      "cell_type": "code",
      "metadata": {
        "id": "t11oWDNO8u6b"
      },
      "source": [
        "lista.append(\"CLASE MUY ABURRIDA :( \")"
      ],
      "execution_count": null,
      "outputs": []
    },
    {
      "cell_type": "code",
      "metadata": {
        "colab": {
          "base_uri": "https://localhost:8080/"
        },
        "id": "CSmOTDld84Uw",
        "outputId": "17dbb5b2-ad30-45ca-dd9c-2bc56777460e"
      },
      "source": [
        "len(lista)"
      ],
      "execution_count": null,
      "outputs": [
        {
          "output_type": "execute_result",
          "data": {
            "text/plain": [
              "6"
            ]
          },
          "metadata": {},
          "execution_count": 39
        }
      ]
    },
    {
      "cell_type": "code",
      "metadata": {
        "id": "gXPM-8Mc9Za-"
      },
      "source": [
        "lista.append(9)"
      ],
      "execution_count": null,
      "outputs": []
    },
    {
      "cell_type": "code",
      "metadata": {
        "colab": {
          "base_uri": "https://localhost:8080/"
        },
        "id": "EfSkPpHl9cym",
        "outputId": "0d7d233f-45f5-45bb-8d33-7e8b8a35dea6"
      },
      "source": [
        "len(lista)"
      ],
      "execution_count": null,
      "outputs": [
        {
          "output_type": "execute_result",
          "data": {
            "text/plain": [
              "7"
            ]
          },
          "metadata": {},
          "execution_count": 41
        }
      ]
    },
    {
      "cell_type": "code",
      "metadata": {
        "colab": {
          "base_uri": "https://localhost:8080/"
        },
        "id": "TpNRCs_V9epj",
        "outputId": "b5738e7e-d97e-4c77-995e-1c85bdbf3dbd"
      },
      "source": [
        "#lista + [\"Nadia\",1]"
      ],
      "execution_count": null,
      "outputs": [
        {
          "output_type": "execute_result",
          "data": {
            "text/plain": [
              "['Nico',\n",
              " 'Perez',\n",
              " 10,\n",
              " -1.4,\n",
              " 'Profe :) ',\n",
              " 'CLASE MUY ABURRIDA :( ',\n",
              " 9,\n",
              " 'Nadia',\n",
              " 1]"
            ]
          },
          "metadata": {},
          "execution_count": 43
        }
      ]
    },
    {
      "cell_type": "code",
      "metadata": {
        "colab": {
          "base_uri": "https://localhost:8080/"
        },
        "id": "UsxTDdll9w07",
        "outputId": "9957ad42-4af2-4232-8002-93054125695f"
      },
      "source": [
        "lista.pop()"
      ],
      "execution_count": null,
      "outputs": [
        {
          "output_type": "execute_result",
          "data": {
            "text/plain": [
              "9"
            ]
          },
          "metadata": {},
          "execution_count": 44
        }
      ]
    },
    {
      "cell_type": "code",
      "metadata": {
        "colab": {
          "base_uri": "https://localhost:8080/",
          "height": 35
        },
        "id": "AAEAUvim996Y",
        "outputId": "6a0f0d05-c641-43c5-bd7a-9c3fd9c5db6d"
      },
      "source": [
        "lista.pop()"
      ],
      "execution_count": null,
      "outputs": [
        {
          "output_type": "execute_result",
          "data": {
            "application/vnd.google.colaboratory.intrinsic+json": {
              "type": "string"
            },
            "text/plain": [
              "'CLASE MUY ABURRIDA :( '"
            ]
          },
          "metadata": {},
          "execution_count": 46
        }
      ]
    },
    {
      "cell_type": "code",
      "metadata": {
        "colab": {
          "base_uri": "https://localhost:8080/",
          "height": 35
        },
        "id": "M6wZEPW--Gne",
        "outputId": "d893624e-01c8-4445-f368-bb1cc8db3006"
      },
      "source": [
        "lista.pop()"
      ],
      "execution_count": null,
      "outputs": [
        {
          "output_type": "execute_result",
          "data": {
            "application/vnd.google.colaboratory.intrinsic+json": {
              "type": "string"
            },
            "text/plain": [
              "'Profe :) '"
            ]
          },
          "metadata": {},
          "execution_count": 48
        }
      ]
    },
    {
      "cell_type": "code",
      "metadata": {
        "colab": {
          "base_uri": "https://localhost:8080/"
        },
        "id": "NPDaiGpx-Rnh",
        "outputId": "27818e34-c497-475c-8fda-8b047213583f"
      },
      "source": [
        "lista"
      ],
      "execution_count": null,
      "outputs": [
        {
          "output_type": "execute_result",
          "data": {
            "text/plain": [
              "['Nico', 'Perez', 10, -1.4]"
            ]
          },
          "metadata": {},
          "execution_count": 49
        }
      ]
    },
    {
      "cell_type": "code",
      "metadata": {
        "id": "wxZ2MaCR-agK"
      },
      "source": [
        "numeros =  [1,2,1,3,1,4,1,4,5,1,2,3,6,-1]   #Lista"
      ],
      "execution_count": null,
      "outputs": []
    },
    {
      "cell_type": "code",
      "metadata": {
        "colab": {
          "base_uri": "https://localhost:8080/"
        },
        "id": "Fkax1Ldu-lTe",
        "outputId": "17c64e57-bbb3-4e4d-8c67-a6ae0108e94d"
      },
      "source": [
        "numeros.count(-96)"
      ],
      "execution_count": null,
      "outputs": [
        {
          "output_type": "execute_result",
          "data": {
            "text/plain": [
              "0"
            ]
          },
          "metadata": {},
          "execution_count": 53
        }
      ]
    },
    {
      "cell_type": "code",
      "metadata": {
        "colab": {
          "base_uri": "https://localhost:8080/"
        },
        "id": "jm1wJ0Wr_J3J",
        "outputId": "50d600fb-70ad-4827-c061-a958766d300f"
      },
      "source": [
        "numeros.index(4)"
      ],
      "execution_count": null,
      "outputs": [
        {
          "output_type": "execute_result",
          "data": {
            "text/plain": [
              "5"
            ]
          },
          "metadata": {},
          "execution_count": 57
        }
      ]
    },
    {
      "cell_type": "code",
      "metadata": {
        "id": "wBQFIPskE3mN"
      },
      "source": [
        "datos = (1, -5, 123,34, \"Una cadena\", \"Otra cadena\", \"nico\")   #Tupla\n"
      ],
      "execution_count": null,
      "outputs": []
    },
    {
      "cell_type": "code",
      "metadata": {
        "colab": {
          "base_uri": "https://localhost:8080/"
        },
        "id": "fHCVJR3oFHDN",
        "outputId": "22a42bc2-94b8-4277-ce08-e45024e3634e"
      },
      "source": [
        "datos"
      ],
      "execution_count": null,
      "outputs": [
        {
          "output_type": "execute_result",
          "data": {
            "text/plain": [
              "(1, -5, 123, 34, 'Una cadena', 'Otra cadena', 'nico')"
            ]
          },
          "metadata": {},
          "execution_count": 59
        }
      ]
    },
    {
      "cell_type": "code",
      "metadata": {
        "colab": {
          "base_uri": "https://localhost:8080/",
          "height": 165
        },
        "id": "VOje81jOFLCN",
        "outputId": "6b76e1d9-d05d-4bb2-9fde-5b7489d2d132"
      },
      "source": [
        "#datos.append(\"Jose\")"
      ],
      "execution_count": null,
      "outputs": [
        {
          "output_type": "error",
          "ename": "AttributeError",
          "evalue": "ignored",
          "traceback": [
            "\u001b[0;31m---------------------------------------------------------------------------\u001b[0m",
            "\u001b[0;31mAttributeError\u001b[0m                            Traceback (most recent call last)",
            "\u001b[0;32m<ipython-input-63-fc7a7eea9593>\u001b[0m in \u001b[0;36m<module>\u001b[0;34m()\u001b[0m\n\u001b[0;32m----> 1\u001b[0;31m \u001b[0mdatos\u001b[0m\u001b[0;34m.\u001b[0m\u001b[0mappend\u001b[0m\u001b[0;34m(\u001b[0m\u001b[0;34m\"Jose\"\u001b[0m\u001b[0;34m)\u001b[0m\u001b[0;34m\u001b[0m\u001b[0;34m\u001b[0m\u001b[0m\n\u001b[0m",
            "\u001b[0;31mAttributeError\u001b[0m: 'tuple' object has no attribute 'append'"
          ]
        }
      ]
    },
    {
      "cell_type": "code",
      "metadata": {
        "colab": {
          "base_uri": "https://localhost:8080/"
        },
        "id": "zZd1OJ2fFq8I",
        "outputId": "843ae253-e8d0-47b3-9033-b538794b2f9d"
      },
      "source": [
        "datos[-3:]"
      ],
      "execution_count": null,
      "outputs": [
        {
          "output_type": "execute_result",
          "data": {
            "text/plain": [
              "('Una cadena', 'Otra cadena', 'nico')"
            ]
          },
          "metadata": {},
          "execution_count": 64
        }
      ]
    },
    {
      "cell_type": "code",
      "metadata": {
        "colab": {
          "base_uri": "https://localhost:8080/"
        },
        "id": "K5bFz00AHrSB",
        "outputId": "ca4bebc4-a60b-4ce5-b5a0-a9c4a1b625e8"
      },
      "source": [
        "datos"
      ],
      "execution_count": null,
      "outputs": [
        {
          "output_type": "execute_result",
          "data": {
            "text/plain": [
              "(1, -5, 123, 34, 'Una cadena', 'Otra cadena', 'nico')"
            ]
          },
          "metadata": {},
          "execution_count": 65
        }
      ]
    },
    {
      "cell_type": "code",
      "metadata": {
        "colab": {
          "base_uri": "https://localhost:8080/",
          "height": 165
        },
        "id": "-8mJBmp6Htgu",
        "outputId": "8265e59e-c1f9-4050-ed89-12d677c39d58"
      },
      "source": [
        "datos.index(-666)"
      ],
      "execution_count": null,
      "outputs": [
        {
          "output_type": "error",
          "ename": "ValueError",
          "evalue": "ignored",
          "traceback": [
            "\u001b[0;31m---------------------------------------------------------------------------\u001b[0m",
            "\u001b[0;31mValueError\u001b[0m                                Traceback (most recent call last)",
            "\u001b[0;32m<ipython-input-69-4a2dc00c8a6a>\u001b[0m in \u001b[0;36m<module>\u001b[0;34m()\u001b[0m\n\u001b[0;32m----> 1\u001b[0;31m \u001b[0mdatos\u001b[0m\u001b[0;34m.\u001b[0m\u001b[0mindex\u001b[0m\u001b[0;34m(\u001b[0m\u001b[0;34m-\u001b[0m\u001b[0;36m666\u001b[0m\u001b[0;34m)\u001b[0m\u001b[0;34m\u001b[0m\u001b[0;34m\u001b[0m\u001b[0m\n\u001b[0m",
            "\u001b[0;31mValueError\u001b[0m: tuple.index(x): x not in tuple"
          ]
        }
      ]
    },
    {
      "cell_type": "code",
      "metadata": {
        "id": "UPN7FTE4IL2A"
      },
      "source": [
        "gran_tupla = (111, 2222, [\"Nico\",23], 54)"
      ],
      "execution_count": null,
      "outputs": []
    },
    {
      "cell_type": "code",
      "metadata": {
        "colab": {
          "base_uri": "https://localhost:8080/"
        },
        "id": "cR3zBoi_JVcO",
        "outputId": "4e9fa06a-7687-4b26-b36c-379e546ea28c"
      },
      "source": [
        "len(gran_tupla)"
      ],
      "execution_count": null,
      "outputs": [
        {
          "output_type": "execute_result",
          "data": {
            "text/plain": [
              "4"
            ]
          },
          "metadata": {},
          "execution_count": 71
        }
      ]
    },
    {
      "cell_type": "code",
      "metadata": {
        "id": "At6Q1knwJcIs"
      },
      "source": [
        "gran_tupla[2][0] = \"Brenda!!!!!\""
      ],
      "execution_count": null,
      "outputs": []
    },
    {
      "cell_type": "code",
      "metadata": {
        "id": "GogqVcODJ324"
      },
      "source": [
        "gran_tupla = list(gran_tupla)"
      ],
      "execution_count": null,
      "outputs": []
    },
    {
      "cell_type": "code",
      "metadata": {
        "id": "4qqTTk0OLbsY"
      },
      "source": [
        "gran_tupla[-1] = 99"
      ],
      "execution_count": null,
      "outputs": []
    },
    {
      "cell_type": "code",
      "metadata": {
        "colab": {
          "base_uri": "https://localhost:8080/"
        },
        "id": "VolDf5iOLkVo",
        "outputId": "a2c13057-70ed-4b47-a91e-f56d2dc83a75"
      },
      "source": [
        "tuple(gran_tupla)"
      ],
      "execution_count": null,
      "outputs": [
        {
          "output_type": "execute_result",
          "data": {
            "text/plain": [
              "[111, 2222, ['Brenda!!!!!', 23], 99]"
            ]
          },
          "metadata": {},
          "execution_count": 83
        }
      ]
    }
  ]
}