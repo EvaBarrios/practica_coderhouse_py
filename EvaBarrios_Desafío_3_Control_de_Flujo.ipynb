{
  "nbformat": 4,
  "nbformat_minor": 0,
  "metadata": {
    "colab": {
      "name": "(Tu Nombre) - Desafío 3 Control de Flujo.ipynb",
      "provenance": [],
      "collapsed_sections": [],
      "toc_visible": true,
      "include_colab_link": true
    },
    "kernelspec": {
      "name": "python3",
      "display_name": "Python 3"
    },
    "language_info": {
      "name": "python"
    }
  },
  "cells": [
    {
      "cell_type": "markdown",
      "metadata": {
        "id": "view-in-github",
        "colab_type": "text"
      },
      "source": [
        "<a href=\"https://colab.research.google.com/github/EvaBarrios/practica_coderhouse_py/blob/main/EvaBarrios_Desaf%C3%ADo_3_Control_de_Flujo.ipynb\" target=\"_parent\"><img src=\"https://colab.research.google.com/assets/colab-badge.svg\" alt=\"Open In Colab\"/></a>"
      ]
    },
    {
      "cell_type": "markdown",
      "source": [
        "# Desafío entregable 3 \"Control de Flujo\""
      ],
      "metadata": {
        "id": "gY3G5Qhu4PFc"
      }
    },
    {
      "cell_type": "markdown",
      "source": [
        "- 📌 Recuerda usar el estilo `snake_case` en el nombre de las variables (minúsculas y palabras unidas con guion bajo) y escribir palabras completas, no abreviadas, para una mayor legibilidad del código.\n",
        "- 📌 Recuerda envolver a los operadores `+ - =  != < >`, etc... con un espacio a la izquierda y a la derecha, y también, después de la coma, un espacio solamente a la derecha. (Ver recomendaciones de estilo PEP8)\n",
        "- 📌 Recuerda mantener un estilo en el idioma para las variables, es decir, mezclar el inglés y el español no es una buena práctica."
      ],
      "metadata": {
        "id": "u8Uy-7Gb5vTK"
      }
    },
    {
      "cell_type": "markdown",
      "source": [
        "## Ejercicio 1"
      ],
      "metadata": {
        "id": "I7RPtznjmDe_"
      }
    },
    {
      "cell_type": "markdown",
      "source": [
        "1) Escribí un programa que lea dos números por teclado y permita elegir entre 4 opciones en un menú:\n",
        "\n",
        "\n",
        "1.\tMostrar la suma de los dos números\n",
        "2.\tMostrar la resta del primero menos el segundo\n",
        "3.\tMostrar la multiplicación de los dos números\n",
        "4.\tSi elige esta opción, el bucle se interrumpirá y el programa finalizará\n",
        "5.\tEn caso de no introducir una opción válida, el programa informará que no es una opción correcta\n",
        "\n",
        "🔥 Tip: Cuando el bucle sea indeterminado, es más claro que uses `while True`:"
      ],
      "metadata": {
        "id": "Lptrupudl-Rr"
      }
    },
    {
      "cell_type": "code",
      "execution_count": null,
      "metadata": {
        "id": "MrLKmUdilP7x"
      },
      "outputs": [],
      "source": [
        "# Completar aquí"
      ]
    },
    {
      "cell_type": "markdown",
      "source": [
        "## Ejercicio 2"
      ],
      "metadata": {
        "id": "5QSz5pCFmNcH"
      }
    },
    {
      "cell_type": "markdown",
      "source": [
        "Escribí un programa que lea un número impar por teclado. Si el usuario no introduce un número impar, debe repetirse el proceso hasta que lo introduzca correctamente."
      ],
      "metadata": {
        "id": "fqGLxX2amQY4"
      }
    },
    {
      "cell_type": "code",
      "source": [
        "# Completar aquí"
      ],
      "metadata": {
        "id": "XraTuyq8mh8a"
      },
      "execution_count": null,
      "outputs": []
    },
    {
      "cell_type": "markdown",
      "source": [
        "## Ejercicio 3"
      ],
      "metadata": {
        "id": "bjfN2QPUmSg6"
      }
    },
    {
      "cell_type": "markdown",
      "source": [
        "Escribí un programa que sume todos los números enteros impares desde el 0 hasta el 100:\n",
        ">🖐 Ayuda: Podés utilizar la funciones `sum()` y `range()` para hacerlo más fácil. \n",
        "Prueba el tercer parámetro de la función `range(<inicio>, <fin>, <salto>)`."
      ],
      "metadata": {
        "id": "TclAu6-xmuk5"
      }
    },
    {
      "cell_type": "code",
      "source": [
        "# Completar aquí"
      ],
      "metadata": {
        "id": "dBz07lJ8mxpv"
      },
      "execution_count": null,
      "outputs": []
    },
    {
      "cell_type": "markdown",
      "source": [
        "## Ejercicio 4"
      ],
      "metadata": {
        "id": "z_2XmsBEmULg"
      }
    },
    {
      "cell_type": "markdown",
      "source": [
        "Escribí un programa que pida al usuario cuántos números quiere introducir. \n",
        "Luego lee todos los números y realiza una media aritmética (el promedio):"
      ],
      "metadata": {
        "id": "5sAQf7AJm8Jw"
      }
    },
    {
      "cell_type": "code",
      "source": [
        "# Completar aquí"
      ],
      "metadata": {
        "id": "hYSGZP8jm6Ei"
      },
      "execution_count": null,
      "outputs": []
    },
    {
      "cell_type": "markdown",
      "source": [
        "## Ejercicio 5"
      ],
      "metadata": {
        "id": "X0wABp0TmVEw"
      }
    },
    {
      "cell_type": "markdown",
      "source": [
        "Escribí un programa que pida al usuario un número entero del 0 al 9. Mientras el número no sea correcto, se debe repetir el proceso. Luego, debe comprobar si el número se encuentra en la lista de números, y notificarlo.\n",
        "> 🖐 Ayuda: La sintaxis  `<valor> in <lista>` permite comprobar fácilmente si un valor se encuentra en una lista (devuelve `True` o `False`)"
      ],
      "metadata": {
        "id": "FhrV11E0nGkG"
      }
    },
    {
      "cell_type": "code",
      "source": [
        "# Completar aquí"
      ],
      "metadata": {
        "id": "7ljfbzbfe18c"
      },
      "execution_count": null,
      "outputs": []
    },
    {
      "cell_type": "markdown",
      "source": [
        "## Ejercicio 6"
      ],
      "metadata": {
        "id": "YZg5TyngmWD4"
      }
    },
    {
      "cell_type": "markdown",
      "source": [
        "Utilizá la función `range()` y la \"conversión de listas\", para que el programa genere las siguientes listas dinámicamente:\n",
        "\n",
        "- a) Todos los números del 0 al 10 `[0, 1, 2, ..., 10]`\n",
        "- b) Todos los números del -10 al 0 `[-10, -9, -8, ..., 0]`\n",
        "- c) Todos los números pares del 0 al 20 `[0, 2, 4, ..., 20]`\n",
        "- d) Todos los números impares entre -20 y 0 `[-19, -17, -15, ...,]`\n",
        "- e) Todos los números múltiples de 5 del 0 al 50 `[0, 5, 10, ..., 50]`"
      ],
      "metadata": {
        "id": "m1Y8rduDnPPO"
      }
    },
    {
      "cell_type": "code",
      "source": [
        "# Completar aquí"
      ],
      "metadata": {
        "id": "GN2L491Xzw6w"
      },
      "execution_count": null,
      "outputs": []
    },
    {
      "cell_type": "markdown",
      "source": [
        "## Ejercicio 7"
      ],
      "metadata": {
        "id": "gXmVkstdmW2g"
      }
    },
    {
      "cell_type": "markdown",
      "source": [
        "Dadas dos listas, debés generar una tercera con todos los elementos que se repitan en las dos primeras, pero no debe repetirse ningún elemento en la nueva lista:\n",
        "```py\n",
        "lista_1 = [\"h\", \"o\", \"l\", \"a\", \" \", \"m\", \"u\", \"n\", \"d\", \"o\"]\n",
        "lista_2 = [\"h\", \"o\", \"l\", \"a\", \" \", \"l\", \"u\", \"n\", \"a\"]\n",
        "```"
      ],
      "metadata": {
        "id": "MbadjIjlnbx3"
      }
    },
    {
      "cell_type": "code",
      "source": [
        "# Completar aquí"
      ],
      "metadata": {
        "id": "UM2AOZAF0W8W"
      },
      "execution_count": null,
      "outputs": []
    }
  ]
}