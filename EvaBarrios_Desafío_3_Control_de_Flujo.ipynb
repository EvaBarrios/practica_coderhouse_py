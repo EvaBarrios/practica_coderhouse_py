{
  "cells": [
    {
      "cell_type": "markdown",
      "metadata": {
        "id": "view-in-github",
        "colab_type": "text"
      },
      "source": [
        "<a href=\"https://colab.research.google.com/github/EvaBarrios/practica_coderhouse_py/blob/main/EvaBarrios_Desaf%C3%ADo_3_Control_de_Flujo.ipynb\" target=\"_parent\"><img src=\"https://colab.research.google.com/assets/colab-badge.svg\" alt=\"Open In Colab\"/></a>"
      ]
    },
    {
      "cell_type": "markdown",
      "metadata": {
        "id": "gY3G5Qhu4PFc"
      },
      "source": [
        "# Desafío entregable 3 \"Control de Flujo\""
      ]
    },
    {
      "cell_type": "markdown",
      "metadata": {
        "id": "u8Uy-7Gb5vTK"
      },
      "source": [
        "- 📌 Recuerda usar el estilo `snake_case` en el nombre de las variables (minúsculas y palabras unidas con guion bajo) y escribir palabras completas, no abreviadas, para una mayor legibilidad del código.\n",
        "- 📌 Recuerda envolver a los operadores `+ - =  != < >`, etc... con un espacio a la izquierda y a la derecha, y también, después de la coma, un espacio solamente a la derecha. (Ver recomendaciones de estilo PEP8)\n",
        "- 📌 Recuerda mantener un estilo en el idioma para las variables, es decir, mezclar el inglés y el español no es una buena práctica."
      ]
    },
    {
      "cell_type": "markdown",
      "metadata": {
        "id": "I7RPtznjmDe_"
      },
      "source": [
        "## Ejercicio 1"
      ]
    },
    {
      "cell_type": "markdown",
      "metadata": {
        "id": "Lptrupudl-Rr"
      },
      "source": [
        "1) Escribí un programa que lea dos números por teclado y permita elegir entre 4 opciones en un menú:\n",
        "\n",
        "\n",
        "1.\tMostrar la suma de los dos números\n",
        "2.\tMostrar la resta del primero menos el segundo\n",
        "3.\tMostrar la multiplicación de los dos números\n",
        "4.\tSi elige esta opción, el bucle se interrumpirá y el programa finalizará\n",
        "5.\tEn caso de no introducir una opción válida, el programa informará que no es una opción correcta\n",
        "\n",
        "🔥 Tip: Cuando el bucle sea indeterminado, es más claro que uses `while True`:"
      ]
    },
    {
      "cell_type": "code",
      "execution_count": 3,
      "metadata": {
        "id": "MrLKmUdilP7x",
        "colab": {
          "base_uri": "https://localhost:8080/"
        },
        "outputId": "c375d8bd-d839-4c71-edf7-83e639a06a5c"
      },
      "outputs": [
        {
          "output_type": "stream",
          "name": "stdout",
          "text": [
            "Ingrese primer numero: -22\n",
            "Ingrese segundo numero: 30\n",
            "Ingrese alguna de las siguientes opciones 1, 2, 3, 4: 5\n",
            "Esta no es una opcion correcta\n",
            "Ingrese alguna de las siguientes opciones 1, 2, 3, 4: 1\n",
            "La suma de los numeros ingresados es: 8.0\n",
            "Ingrese alguna de las siguientes opciones 1, 2, 3, 4: 2\n",
            "La resta del primero y el segundo es: -52.0\n",
            "Ingrese alguna de las siguientes opciones 1, 2, 3, 4: 3\n",
            "El producto del primero y el segundo es: -660.0\n",
            "Ingrese alguna de las siguientes opciones 1, 2, 3, 4: 5\n",
            "Esta no es una opcion correcta\n",
            "Ingrese alguna de las siguientes opciones 1, 2, 3, 4: 4\n",
            "Esta no es una opcion correcta\n",
            "Fin del programa\n"
          ]
        }
      ],
      "source": [
        "numero_1 = float(input('Ingrese primer numero: '))\n",
        "numero_2= float(input('Ingrese segundo numero: '))\n",
        "\n",
        "while True:\n",
        "    opcion = int(input('Ingrese alguna de las siguientes opciones 1, 2, 3, 4: '))\n",
        "    if opcion not in range(1,4):\n",
        "        print('Esta no es una opcion correcta')\n",
        "    else:\n",
        "        if opcion == 1: \n",
        "            print(f'La suma de los numeros ingresados es: {round(numero_1 + numero_2,2)}')\n",
        "        elif opcion == 2:\n",
        "            print(f'La resta del primero y el segundo es: {round(numero_1 - numero_2,2)}')\n",
        "        elif opcion == 3:\n",
        "            print(f'El producto del primero y el segundo es: {round(numero_1 * numero_2,2)}')\n",
        "    if opcion == 4:\n",
        "        print('Fin del programa')\n",
        "        break"
      ]
    },
    {
      "cell_type": "markdown",
      "metadata": {
        "id": "5QSz5pCFmNcH"
      },
      "source": [
        "## Ejercicio 2"
      ]
    },
    {
      "cell_type": "markdown",
      "metadata": {
        "id": "fqGLxX2amQY4"
      },
      "source": [
        "Escribí un programa que lea un número impar por teclado. Si el usuario no introduce un número impar, debe repetirse el proceso hasta que lo introduzca correctamente."
      ]
    },
    {
      "cell_type": "code",
      "execution_count": 4,
      "metadata": {
        "id": "XraTuyq8mh8a",
        "colab": {
          "base_uri": "https://localhost:8080/"
        },
        "outputId": "22b92cef-1446-478d-e0b2-57dea9d2fefd"
      },
      "outputs": [
        {
          "output_type": "stream",
          "name": "stdout",
          "text": [
            "Por favor, ingrese numero impar: 66\n",
            "Por favor, ingrese numero impar: -8\n",
            "Por favor, ingrese numero impar: 3\n",
            "El numero 3 es impar.\n",
            " \"Fin del programa\"\n"
          ]
        }
      ],
      "source": [
        "while True:\n",
        "    numero = int(input('Por favor, ingrese numero impar: '))\n",
        "    if numero % 2 != 0:\n",
        "        break\n",
        "print(f'El numero {numero} es impar.\\n \"Fin del programa\"')"
      ]
    },
    {
      "cell_type": "markdown",
      "metadata": {
        "id": "bjfN2QPUmSg6"
      },
      "source": [
        "## Ejercicio 3"
      ]
    },
    {
      "cell_type": "markdown",
      "metadata": {
        "id": "TclAu6-xmuk5"
      },
      "source": [
        "Escribí un programa que sume todos los números enteros impares desde el 0 hasta el 100:\n",
        ">🖐 Ayuda: Podés utilizar la funciones `sum()` y `range()` para hacerlo más fácil. \n",
        "Prueba el tercer parámetro de la función `range(<inicio>, <fin>, <salto>)`."
      ]
    },
    {
      "cell_type": "code",
      "execution_count": 5,
      "metadata": {
        "id": "dBz07lJ8mxpv",
        "colab": {
          "base_uri": "https://localhost:8080/"
        },
        "outputId": "f9cd0b89-e7b8-4ede-b898-ae8d9ad7c460"
      },
      "outputs": [
        {
          "output_type": "stream",
          "name": "stdout",
          "text": [
            "La suma de los 100 primeros numeros impares es: 2500\n"
          ]
        }
      ],
      "source": [
        "lista = []\n",
        "for i in range(1, 100, 2):\n",
        "    lista.append(i)\n",
        "print(f'La suma de los 100 primeros numeros impares es: {sum(lista)}')"
      ]
    },
    {
      "cell_type": "markdown",
      "metadata": {
        "id": "z_2XmsBEmULg"
      },
      "source": [
        "## Ejercicio 4"
      ]
    },
    {
      "cell_type": "markdown",
      "metadata": {
        "id": "5sAQf7AJm8Jw"
      },
      "source": [
        "Escribí un programa que pida al usuario cuántos números quiere introducir. \n",
        "Luego lee todos los números y realiza una media aritmética (el promedio):"
      ]
    },
    {
      "cell_type": "code",
      "execution_count": 6,
      "metadata": {
        "id": "hYSGZP8jm6Ei",
        "colab": {
          "base_uri": "https://localhost:8080/"
        },
        "outputId": "113a0e3e-0650-4cfb-b472-a1b5e2b7a1c5"
      },
      "outputs": [
        {
          "output_type": "stream",
          "name": "stdout",
          "text": [
            "Cuantos numeros ingresara por consola?: 6\n",
            "Ingrese numero: 9089\n",
            "Ingrese numero: 9876897689\n",
            "Ingrese numero: 09878998\n",
            "Ingrese numero: 888898989\n",
            "Ingrese numero: 55567665\n",
            "Ingrese numero: 1\n",
            "Los numeros ingresados estan en lasiguiente lista: [9089.0, 9876897689.0, 9878998.0, 888898989.0, 55567665.0, 1.0]\n",
            "La media aritmetica de los numeros ingresados es: 1805208738.5\n"
          ]
        }
      ],
      "source": [
        "\\while True:\n",
        "    contador = input(\"Cuantos numeros ingresara por consola?: \")\n",
        "    if str.isdigit(contador):\n",
        "        break\n",
        "    \n",
        "n = int(contador)\n",
        "lista = []    \n",
        "for i in range(n):\n",
        "    num = float(input(\"Ingrese numero: \"))\n",
        "    lista.append(num)\n",
        "\n",
        "print(f'Los numeros ingresados estan en la siguiente lista: {lista}')\n",
        "print(f'La media aritmetica de los numeros ingresados es: {sum(lista)/n}')"
      ]
    },
    {
      "cell_type": "markdown",
      "metadata": {
        "id": "X0wABp0TmVEw"
      },
      "source": [
        "## Ejercicio 5"
      ]
    },
    {
      "cell_type": "markdown",
      "metadata": {
        "id": "FhrV11E0nGkG"
      },
      "source": [
        "Escribí un programa que pida al usuario un número entero del 0 al 9. Mientras el número no sea correcto, se debe repetir el proceso. Luego, debe comprobar si el número se encuentra en la lista de números, y notificarlo.\n",
        "> 🖐 Ayuda: La sintaxis  `<valor> in <lista>` permite comprobar fácilmente si un valor se encuentra en una lista (devuelve `True` o `False`)"
      ]
    },
    {
      "cell_type": "code",
      "execution_count": 7,
      "metadata": {
        "id": "7ljfbzbfe18c",
        "colab": {
          "base_uri": "https://localhost:8080/"
        },
        "outputId": "55686c38-2e39-4b70-a734-ad1e163f834b"
      },
      "outputs": [
        {
          "output_type": "stream",
          "name": "stdout",
          "text": [
            "Ingrese un numero entero que sea mayor o igual a 0 y menor o igual a 9: 70\n",
            "Por favor, ingrese numero que sea mayor o igual a 0 y menor o igual a 9: -4\n",
            "Por favor, ingrese numero que sea mayor o igual a 0 y menor o igual a 9: 7\n",
            "El numero 7 no se encuentra en la lista [1, 3, 6, 9]\n"
          ]
        }
      ],
      "source": [
        "valor = int(input('Ingrese un numero entero que sea mayor o igual a 0 y menor o igual a 9: '))\n",
        "while valor not in range(0,10):\n",
        "    valor = int(input('Por favor, ingrese numero que sea mayor o igual a 0 y menor o igual a 9: '))\n",
        "\n",
        "lista = [1, 3, 6, 9]\n",
        "if valor in lista:\n",
        "    print(f'El numero {valor} se encuentra en la lista {lista}')\n",
        "else:\n",
        "    print(f'El numero {valor} no se encuentra en la lista {lista}')"
      ]
    },
    {
      "cell_type": "markdown",
      "metadata": {
        "id": "YZg5TyngmWD4"
      },
      "source": [
        "## Ejercicio 6"
      ]
    },
    {
      "cell_type": "markdown",
      "metadata": {
        "id": "m1Y8rduDnPPO"
      },
      "source": [
        "Utilizá la función `range()` y la \"conversión de listas\", para que el programa genere las siguientes listas dinámicamente:\n",
        "\n",
        "- a) Todos los números del 0 al 10 `[0, 1, 2, ..., 10]`\n",
        "- b) Todos los números del -10 al 0 `[-10, -9, -8, ..., 0]`\n",
        "- c) Todos los números pares del 0 al 20 `[0, 2, 4, ..., 20]`\n",
        "- d) Todos los números impares entre -20 y 0 `[-19, -17, -15, ...,]`\n",
        "- e) Todos los números múltiples de 5 del 0 al 50 `[0, 5, 10, ..., 50]`"
      ]
    },
    {
      "cell_type": "code",
      "execution_count": 8,
      "metadata": {
        "id": "GN2L491Xzw6w",
        "colab": {
          "base_uri": "https://localhost:8080/"
        },
        "outputId": "79afb67a-4e0c-42e0-9384-6417e84c8018"
      },
      "outputs": [
        {
          "output_type": "stream",
          "name": "stdout",
          "text": [
            "La siguiente lista contiene los numeros enteros desde 0 hasta 10: [0, 1, 2, 3, 4, 5, 6, 7, 8, 9, 10]\n",
            "La siguiente lista contiene los numeros enteros desde -10 hasta 0: [-10, -9, -8, -7, -6, -5, -4, -3, -2, -1, 0]\n",
            "La siguiente lista contiene los numeros enteros pares desde 0 hasta 20: [0, 2, 4, 6, 8, 10, 12, 14, 16, 18, 20]\n",
            "La siguiente lista contiene los numeros enteros impares desde -20 hasta 0: [-19, -17, -15, -13, -11, -9, -7, -5, -3, -1]\n",
            "La siguiente lista contiene los numeros enteros multiplos de 5, del 0 al 50: [0, 5, 10, 15, 20, 25, 30, 35, 40, 45, 50]\n"
          ]
        }
      ],
      "source": [
        "lista_a = list(range(0, 11))\n",
        "print(f'La siguiente lista contiene los numeros enteros desde 0 hasta 10: {lista_a}')\n",
        "\n",
        "lista_b = list(range(-10, 1, 1))\n",
        "print(f'La siguiente lista contiene los numeros enteros desde -10 hasta 0: {lista_b}')\n",
        "\n",
        "lista_c = list(range(0, 21, 2))\n",
        "print(f'La siguiente lista contiene los numeros enteros pares desde 0 hasta 20: {lista_c}')\n",
        "\n",
        "lista_d = list(range(-19, 0, 2))\n",
        "print(f'La siguiente lista contiene los numeros enteros impares desde -20 hasta 0: {lista_d}')\n",
        "\n",
        "lista_e = list(range(0, 51, 5))\n",
        "print(f'La siguiente lista contiene los numeros enteros multiplos de 5, del 0 al 50: {lista_e}')"
      ]
    },
    {
      "cell_type": "markdown",
      "metadata": {
        "id": "gXmVkstdmW2g"
      },
      "source": [
        "## Ejercicio 7"
      ]
    },
    {
      "cell_type": "markdown",
      "metadata": {
        "id": "MbadjIjlnbx3"
      },
      "source": [
        "Dadas dos listas, debés generar una tercera con todos los elementos que se repitan en las dos primeras, pero no debe repetirse ningún elemento en la nueva lista:\n",
        "```py\n",
        "lista_1 = [\"h\", \"o\", \"l\", \"a\", \" \", \"m\", \"u\", \"n\", \"d\", \"o\"]\n",
        "lista_2 = [\"h\", \"o\", \"l\", \"a\", \" \", \"l\", \"u\", \"n\", \"a\"]\n",
        "```"
      ]
    },
    {
      "cell_type": "code",
      "execution_count": 9,
      "metadata": {
        "id": "UM2AOZAF0W8W",
        "colab": {
          "base_uri": "https://localhost:8080/"
        },
        "outputId": "a4d355c1-580e-4e14-8611-e518e7285d1d"
      },
      "outputs": [
        {
          "output_type": "stream",
          "name": "stdout",
          "text": [
            "La lista_1 es: ['h', 'o', 'l', 'a', ' ', 'm', 'u', 'n', 'd', 'o']\n",
            "La lista_2 es: ['h', 'o', 'l', 'a', ' ', 'l', 'u', 'n', 'a']\n",
            "La siguiente lista contiene (sin repetir) los elementos \"repetidos\" en lista_1 y lista_2: ['h', 'o', 'l', 'a', ' ', 'u', 'n']\n"
          ]
        }
      ],
      "source": [
        "lista_1 = ['h','o','l','a',' ', 'm','u','n','d','o']\n",
        "lista_2 = ['h','o','l','a',' ', 'l','u','n','a']\n",
        "lista_3 = []\n",
        "\n",
        "for i in range(len(lista_1)):\n",
        "    if lista_1[i] in lista_2 and lista_1[i] not in lista_3:\n",
        "        lista_3.append(lista_1[i])\n",
        "\n",
        "print(f'La lista_1 es: {lista_1}')\n",
        "print(f'La lista_2 es: {lista_2}')\n",
        "print(f'La siguiente lista contiene (sin repetir) los elementos \"repetidos\" en lista_1 y lista_2: {lista_3}')"
      ]
    }
  ],
  "metadata": {
    "colab": {
      "collapsed_sections": [],
      "name": "(Tu Nombre) - Desafío 3 Control de Flujo.ipynb",
      "provenance": [],
      "toc_visible": true,
      "include_colab_link": true
    },
    "kernelspec": {
      "display_name": "Python 3.10.6 64-bit",
      "language": "python",
      "name": "python3"
    },
    "language_info": {
      "codemirror_mode": {
        "name": "ipython",
        "version": 3
      },
      "file_extension": ".py",
      "mimetype": "text/x-python",
      "name": "python",
      "nbconvert_exporter": "python",
      "pygments_lexer": "ipython3",
      "version": "3.10.6"
    },
    "vscode": {
      "interpreter": {
        "hash": "c323b7345330f980b7c85ab4a4b18316e2a70e7c2aaf2576fba29baacaf3ade9"
      }
    }
  },
  "nbformat": 4,
  "nbformat_minor": 0
}