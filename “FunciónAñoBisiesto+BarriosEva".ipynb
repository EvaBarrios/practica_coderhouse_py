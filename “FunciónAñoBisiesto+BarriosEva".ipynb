{
  "nbformat": 4,
  "nbformat_minor": 0,
  "metadata": {
    "colab": {
      "provenance": [],
      "collapsed_sections": [],
      "include_colab_link": true
    },
    "kernelspec": {
      "name": "python3",
      "display_name": "Python 3"
    },
    "language_info": {
      "name": "python"
    }
  },
  "cells": [
    {
      "cell_type": "markdown",
      "metadata": {
        "id": "view-in-github",
        "colab_type": "text"
      },
      "source": [
        "<a href=\"https://colab.research.google.com/github/EvaBarrios/practica_coderhouse_py/blob/main/%E2%80%9CFunci%C3%B3nA%C3%B1oBisiesto%2BBarriosEva%22.ipynb\" target=\"_parent\"><img src=\"https://colab.research.google.com/assets/colab-badge.svg\" alt=\"Open In Colab\"/></a>"
      ]
    },
    {
      "cell_type": "markdown",
      "source": [
        "Realizar una función llamada año_bisiesto:\n",
        "\n",
        "✓ Recibirá un año por parámetro\n",
        "\n",
        "✓ Imprimirá “El año año es bisiesto” si el año es bisiesto\n",
        "\n",
        "✓ Imprimirá “El año año no es bisiesto” si el año no es bisiesto\n",
        "\n",
        "✓ Si se ingresa algo que no sea número debe indicar que se ingrese un número.\n",
        "\n",
        "> Se recuerda que los años bisiestos son múltiplos de 4, pero los múltiplos de 100 no lo son, aunque los múltiplos de 400 sí. Estos son algunos ejemplos de posibles respuestas: 2012 es bisiesto, 2010 no es bisiesto, 2000 es bisiesto, 1Ā00 no es bisiesto.\n",
        "\n",
        "\n"
      ],
      "metadata": {
        "id": "YRgkbgWn99by"
      }
    },
    {
      "cell_type": "code",
      "execution_count": 5,
      "metadata": {
        "id": "I_0E5XbJ97bz",
        "outputId": "72a8d6df-9fcc-437e-ccd7-eed997d96fde",
        "colab": {
          "base_uri": "https://localhost:8080/"
        }
      },
      "outputs": [
        {
          "output_type": "stream",
          "name": "stdout",
          "text": [
            "Por favor, ingrese anio.\n",
            "Recuerde que se puede evaluar si es bisiesto o no a partir del anio 1586: -500\n",
            "Por favor, ingrese anio.\n",
            "Recuerde que se puede evaluar si es bisiesto o no a partir del anio 1586: planta\n",
            "Por favor, ingrese anio.\n",
            "Recuerde que se puede evaluar si es bisiesto o no a partir del anio 1586: 1670\n",
            "El anio 1670 no es bisiesto\n",
            "El anio 2012 es bisiesto\n",
            "El anio 2010 no es bisiesto\n",
            "El anio 2000 es bisiesto\n",
            "El anio 1900 no es bisiesto\n"
          ]
        }
      ],
      "source": [
        "def anio_bisiesto(anio):\n",
        "    \n",
        "    while anio.isdigit() == False:\n",
        "        anio= input('Por favor, ingrese anio.\\nRecuerde que se puede evaluar si es bisiesto o no a partir del anio 1586: ')\n",
        "        \n",
        "    anio_correcto = int(anio)\n",
        "    \n",
        "    if (anio_correcto > 1585) and (anio_correcto % 4 == 0) and ((not anio_correcto % 100 == 0) or (anio_correcto % 400 == 0)):\n",
        "        print(f'El anio {anio_correcto} es bisiesto')\n",
        "    else:\n",
        "        print(f'El anio {anio_correcto} no es bisiesto')\n",
        "    \n",
        "anio_bisiesto(\"perro\") # 'perro' no es un entero positivo, por lo tanto la funcion pide que se ingrese un numero\n",
        "\n",
        "anio_bisiesto('2012') # 2012 si es anio bisiesto\n",
        "\n",
        "anio_bisiesto('2010') # 2010 no es anio bisiesto\n",
        "\n",
        "anio_bisiesto('2000') # 2000 si es anio bisiesto\n",
        "\n",
        "anio_bisiesto('1900') # 1900 no fue anio bisiesto"
      ]
    }
  ]
}