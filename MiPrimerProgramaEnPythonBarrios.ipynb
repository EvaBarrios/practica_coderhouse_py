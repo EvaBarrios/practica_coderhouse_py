{
  "nbformat": 4,
  "nbformat_minor": 0,
  "metadata": {
    "colab": {
      "name": "MiPrimerProgramaEnPythonBarrios.ipynb",
      "provenance": [],
      "collapsed_sections": [],
      "authorship_tag": "ABX9TyOYT6Mtjpuk3C9EbpUKa1dC",
      "include_colab_link": true
    },
    "kernelspec": {
      "name": "python3",
      "display_name": "Python 3"
    },
    "language_info": {
      "name": "python"
    }
  },
  "cells": [
    {
      "cell_type": "markdown",
      "metadata": {
        "id": "view-in-github",
        "colab_type": "text"
      },
      "source": [
        "<a href=\"https://colab.research.google.com/github/EvaBarrios/practica_coderhouse_py/blob/main/MiPrimerProgramaEnPythonBarrios.ipynb\" target=\"_parent\"><img src=\"https://colab.research.google.com/assets/colab-badge.svg\" alt=\"Open In Colab\"/></a>"
      ]
    },
    {
      "cell_type": "markdown",
      "source": [
        "\n",
        "# Este programa pedirá al usuario tres notas parciales para luego calcular la nota final correspondiente\n"
      ],
      "metadata": {
        "id": "1fGj_YMnDZsa"
      }
    },
    {
      "cell_type": "code",
      "execution_count": 10,
      "metadata": {
        "id": "_hyTSlVYDQ2_",
        "colab": {
          "base_uri": "https://localhost:8080/"
        },
        "outputId": "db60f0ac-1f1c-4fa8-a128-fa40925bc816"
      },
      "outputs": [
        {
          "output_type": "stream",
          "name": "stdout",
          "text": [
            "Ingrese primer nota: 3\n",
            "Ingrese segunda nota: 2\n",
            "Ingrese tercer nota: 10\n",
            "La nota final (promedio ponderado) es: 6.2\n"
          ]
        }
      ],
      "source": [
        "nota_1 = float(input(\"Ingrese primer nota: \")) # Esta nota representa el 20% de la nota final\n",
        "nota_2 = float(input(\"Ingrese segunda nota: \")) # Esta nota representa el 30% de la nota final\n",
        "nota_3 = float(input(\"Ingrese tercer nota: \")) # Esta nota representa el 50% de la nota final\n",
        "nota_final_ = 0.2*nota_1 + 0.3*nota_2 + 0.5*nota_3\n",
        "nota_final = str(nota_final_)\n",
        "print(\"La nota final (promedio ponderado) es: \" + nota_final[0:5]) # La nota final se muestra truncada a dos decimales \"\"\""
      ]
    }
  ]
}